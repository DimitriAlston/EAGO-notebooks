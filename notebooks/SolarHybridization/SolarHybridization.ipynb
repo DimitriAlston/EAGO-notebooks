{
 "cells": [
  {
   "cell_type": "markdown",
   "metadata": {},
   "source": [
    "# Deterministic Global Optimization for Concentrating Solar Thermal Hybridization"
   ]
  },
  {
   "cell_type": "markdown",
   "metadata": {},
   "source": [
    "This example comes from M.D. Stuber. A Differentiable Model for Optimizing Hybridization of Industrial Process Heat Systems with Concentrating Solar Thermal Power. _Processes_, 6(7), 76 (2018) DOI: [10.3390/pr6070076](https://doi.org/10.3390/pr6070076)\n",
    "\n",
    "In this example, we seek to determine the optimal thermal energy storage capacity and parabolic trough solar array aperture area that maximizes the lifecycle savings associated with augmenting a conventional natural gas industrial process heat system.  Here, we use user-defined functions, the JuMP modeling language, the EAGO spatial branch-and-bound algorithm with custom upper- and lower-bounding procedures, and the IPOPT algorithm for solving the bounding subproblems.\n",
    "\n",
    "We will solve the optimal design problem for Firebaugh, CA with the commercial fuel rate and constant industrial process heat demand ($\\xi=0$).\n",
    "\n",
    "Note: This example corresponds to a $\\bar{q}_p=10^4$ kW thermal demand.  In the paper, it is stated that a $\\bar{q}_p=10^5$ kW thermal demand was studied.  However, this is an error as all studies in the paper were conducted for a $\\bar{q}_p=10^4$ kW thermal demand."
   ]
  },
  {
   "cell_type": "code",
   "execution_count": 1,
   "metadata": {},
   "outputs": [],
   "source": [
    "using JuMP, EAGO, Ipopt"
   ]
  },
  {
   "cell_type": "markdown",
   "metadata": {},
   "source": [
    "We will also use the CSV package because our solar resource data (downloaded from the NSRDB) is in a CSV file."
   ]
  },
  {
   "cell_type": "code",
   "execution_count": 2,
   "metadata": {},
   "outputs": [],
   "source": [
    "using CSV, DataFrames"
   ]
  },
  {
   "cell_type": "markdown",
   "metadata": {},
   "source": [
    "The code is organized as follows:  \n",
    "1. We import the solar resource data for the region we are concerned with.  By default, this is the typical meteorological year (TMY) hourly data (8760 data points) which includes the geographic information (coordinates and timezone) as well as the direct normal irradiance (DNI).  Combined, we can model the process of concentrating the solar radiation and collecting it as heat in our system.  \n",
    "2. Once we have the resource data, we call the `PTCmodel` function from \"PTCmodel.jl\" to simulate the specific thermal power of the solar concentrating technology (a parabolic trough in this case) in units of kW/m$^2$ given our geographic region and incident angle data.  This function calls `solarAngles` from \"solarAngles.jl\" to calculate the angles of the direct solar radiation incident to the concentrator aperture with respect to each hour in the TMY data.\n",
    "4. We define a function closure for the solar fraction calculated by `iphProcessSmooth` from \"iphProcessSmooth.jl\", which simulates the performance of the full solar concentrator and thermal storage system hybridized with the industrial process heat system.  The solar fraction is calculated by Eq. 12 in the paper.\n",
    "5. We define the custom upper- and lower-bounding optimization subproblems for the spatial branch-and-bound algorithm.  The lower-bounding problem uses the convex capital model for its objective function (Eq. 16 in the paper), and the upper-bounding problem uses the nonconvex capital model as its objective function (Eq. 14 in the paper).\n",
    "6. We set up the JuMP model with the EAGO optimizer (with custom bounding procedures) and we solve it."
   ]
  },
  {
   "cell_type": "code",
   "execution_count": 3,
   "metadata": {},
   "outputs": [],
   "source": [
    "include(\"smoothMinMaxAbs.jl\")\n",
    "include(\"solarAngles.jl\")\n",
    "include(\"PTCmodel.jl\")\n",
    "include(\"iphProcessSmooth.jl\")\n",
    "include(\"lifecycleCost.jl\")\n",
    "include(\"smoothMinMaxAbs.jl\")\n",
    "\n",
    "# Step 1: Read the data into a table and extract the appropriate data into a vector\n",
    "input_file = \"FirebaughTMY_Julia.csv\"\n",
    "solData = CSV.File(input_file) |> DataFrame\n",
    "yData = convert(Array{Float64,1}, solData[:,7])\n",
    "\n",
    "# Step 2: Get the specific thermal power potential for the region [kW/m^2]\n",
    "q = PTCmodel(yData, -8, 36.85, -120.46)\n",
    "\n",
    "# Step 3: Define the solar fraction closure\n",
    "SolarFrac(xts,xa) = iphProcessSmooth(q, xts, xa);"
   ]
  },
  {
   "cell_type": "markdown",
   "metadata": {},
   "source": [
    "Step 4 is a bit more complicated as we need to define the custom bounding procedures for the branch-and-bound algorithm.  First, we define an extension type called $\\texttt{SolarExt}$ which allows EAGO to dispatch to the custom bounding routines we plan on defining.  "
   ]
  },
  {
   "cell_type": "code",
   "execution_count": 4,
   "metadata": {},
   "outputs": [],
   "source": [
    "import EAGO: Optimizer, GlobalOptimizer\n",
    "struct SolarExt <: EAGO.ExtensionType end"
   ]
  },
  {
   "cell_type": "markdown",
   "metadata": {},
   "source": [
    "Now, we define the custom lower-bounding problem with the convex capital model."
   ]
  },
  {
   "cell_type": "code",
   "execution_count": 5,
   "metadata": {},
   "outputs": [],
   "source": [
    "# Lower Problem Definition\n",
    "import EAGO.lower_problem!\n",
    "function lower_problem!(t::SolarExt, opt::GlobalOptimizer)\n",
    "    \n",
    "    # Get active node\n",
    "    n = opt._current_node\n",
    "    \n",
    "    # Create model and add variables\n",
    "    mL = JuMP.Model(JuMP.optimizer_with_attributes(Ipopt.Optimizer,\n",
    "                    \"tol\" => 1.0e-3,\n",
    "                    \"print_level\" => 0))\n",
    "    xL = n.lower_variable_bounds\n",
    "    xU = n.upper_variable_bounds\n",
    "    @variable(mL, xL[i] <= x[i=1:2] <= xU[i])\n",
    "    \n",
    "    # Define convex lifecycle savings for use in the objective function\n",
    "    flcsC(xts,xa) = lifecycleCost(q, xL, xU, xts, xa, :convex)\n",
    "    \n",
    "    # Register the convex lifecycle savings and solar fraction closure with our model\n",
    "    JuMP.register(mL, :flcsC, 2, flcsC, autodiff=true)\n",
    "    JuMP.register(mL, :SolarFrac, 2, SolarFrac, autodiff=true)\n",
    "\n",
    "    # Define the nonlinear objective and constraint\n",
    "    @NLobjective(mL, Max, flcsC(x[1], x[2]))\n",
    "    @NLconstraint(mL, g1, SolarFrac(x[1], x[2]) >= 0.0) # Declare constraints\n",
    "    \n",
    "    # Optimize the model\n",
    "    JuMP.optimize!(mL)\n",
    "\n",
    "    # Interpret status codes for branch-and-bound\n",
    "    tstatus = MOI.get(mL, MOI.TerminationStatus())\n",
    "    pstatus = MOI.get(mL, MOI.PrimalStatus())\n",
    "    \n",
    "    if EAGO.local_problem_status(tstatus, pstatus) == EAGO.LRS_FEASIBLE\n",
    "        opt._lower_objective_value = -1.0*(JuMP.objective_value(mL)-1e-4) # Multiplied by -1 because EAGO expects \"Min\"\n",
    "        opt._lower_solution = JuMP.value.(x)\n",
    "        opt._lower_feasibility = true\n",
    "        opt._cut_add_flag = false\n",
    "    else\n",
    "        opt._lower_feasibility = false\n",
    "        opt._lower_objective_value = Inf\n",
    "        opt._cut_add_flag = false\n",
    "    end\n",
    "    \n",
    "    return\n",
    "end;"
   ]
  },
  {
   "cell_type": "markdown",
   "metadata": {},
   "source": [
    "Now, we define the upper-bounding problem with the nonconvex capital pricing model."
   ]
  },
  {
   "cell_type": "code",
   "execution_count": 6,
   "metadata": {},
   "outputs": [],
   "source": [
    "# Upper Problem Definition\n",
    "import EAGO.upper_problem!\n",
    "function upper_problem!(t::SolarExt,opt::GlobalOptimizer)\n",
    "    \n",
    "    # Get active node\n",
    "    n = opt._current_node\n",
    "    \n",
    "    # Create model and add variables\n",
    "    mU = JuMP.Model(JuMP.optimizer_with_attributes(Ipopt.Optimizer,\n",
    "                    \"tol\" => 1.0e-3,\n",
    "                    \"print_level\" => 0))\n",
    "    xL = n.lower_variable_bounds\n",
    "    xU = n.upper_variable_bounds\n",
    "    @variable(mU, xL[i] <= x[i=1:2] <= xU[i])\n",
    "    \n",
    "    # Define nonconvex lifecycle savings for use in the objective function\n",
    "    flcs(xts,xa) = lifecycleCost(q, xL, xU, xts, xa, :nonconvex)\n",
    "    \n",
    "    # Register the convex lifecycle savings and solar fraction closure with our model\n",
    "    JuMP.register(mU, :flcs, 2, flcs, autodiff=true)\n",
    "    JuMP.register(mU, :SolarFrac, 2, SolarFrac, autodiff=true)\n",
    "\n",
    "    # Define nonlinear function\n",
    "    @NLobjective(mU, Max, flcs(x[1], x[2]))\n",
    "    @NLconstraint(mU, g1, SolarFrac(x[1], x[2]) >= 0.0)# declare constraints\n",
    "    JuMP.optimize!(mU)\n",
    "\n",
    "    # Interpret status codes for branch-and-bound\n",
    "    tstatus = MOI.get(mU, MOI.TerminationStatus())\n",
    "    pstatus = MOI.get(mU, MOI.PrimalStatus())\n",
    "\n",
    "    if EAGO.local_problem_status(tstatus, pstatus) == EAGO.LRS_FEASIBLE\n",
    "        opt._upper_objective_value = -1.0*JuMP.objective_value(mU) # Multiplied by -1 because EAGO expects \"Min\"\n",
    "        opt._upper_solution = JuMP.value.(x)\n",
    "        opt._upper_feasibility = true\n",
    "    else\n",
    "        opt._upper_feasibility = false\n",
    "        opt._upper_objective_value = Inf\n",
    "        opt._cut_add_flag = false\n",
    "    end\n",
    "    return\n",
    "end;"
   ]
  },
  {
   "cell_type": "markdown",
   "metadata": {},
   "source": [
    "Since we have defined custom bounding routines, we'll disable some unnecessary EAGO subroutines."
   ]
  },
  {
   "cell_type": "code",
   "execution_count": 7,
   "metadata": {},
   "outputs": [],
   "source": [
    "import EAGO: preprocess!, postprocess!, cut_condition\n",
    "function EAGO.preprocess!(t::SolarExt, x::GlobalOptimizer)\n",
    "    x._preprocess_feasibility = true\n",
    "    return\n",
    "end\n",
    "function EAGO.postprocess!(t::SolarExt, x::GlobalOptimizer)\n",
    "    x._postprocess_feasibility = true\n",
    "    return\n",
    "end\n",
    "EAGO.cut_condition(t::SolarExt, x::GlobalOptimizer) = false"
   ]
  },
  {
   "cell_type": "markdown",
   "metadata": {},
   "source": [
    "Now, we define the JuMP model and the variables (and bounds).  We must specify that our new custom extension $\\texttt{SolarExt}$ of EAGO's default routines should be used and that we will be branching on both of our decision variables.  The latter is required for custom routines since no expressions will be provided to the EAGO optimizer and therefore it cannot infer which variables should be branched on. "
   ]
  },
  {
   "cell_type": "code",
   "execution_count": 8,
   "metadata": {},
   "outputs": [],
   "source": [
    "factory = () -> EAGO.Optimizer(SubSolvers(; t=SolarExt()))\n",
    "m = JuMP.Model(optimizer_with_attributes(factory,\n",
    "                                \"relative_tolerance\" => 1e-2,\n",
    "                                \"verbosity\" => 1,\n",
    "                                \"output_iterations\" => 1, \n",
    "                                \"branch_variable\" => Bool[true; true],\n",
    "                                ))\n",
    "\n",
    "x_L = [0.001, 0.01]\n",
    "x_U = [16.0, 60000.0]\n",
    "@variable(m, x_L[i] <= x[i=1:2] <= x_U[i])\n",
    "JuMP.register(m, :SolarFrac, 2, SolarFrac, autodiff=true)\n",
    "@NLconstraint(m, g1, SolarFrac(x[1], x[2]) >= 0.0);"
   ]
  },
  {
   "cell_type": "markdown",
   "metadata": {},
   "source": [
    "Now, let's solve the problem and print the results."
   ]
  },
  {
   "cell_type": "code",
   "execution_count": 9,
   "metadata": {},
   "outputs": [
    {
     "name": "stdout",
     "output_type": "stream",
     "text": [
      "\n",
      "******************************************************************************\n",
      "This program contains Ipopt, a library for large-scale nonlinear optimization.\n",
      " Ipopt is released as open source code under the Eclipse Public License (EPL).\n",
      "         For more information visit https://github.com/coin-or/Ipopt\n",
      "******************************************************************************\n",
      "\n",
      "-----------------------------------------------------------------------------------------------------------------------------\n",
      "|  Iteration #  |     Nodes    | Lower Bound  |  Upper Bound  |      Gap     |     Ratio    |     Time     |    Time Left   |\n",
      "-----------------------------------------------------------------------------------------------------------------------------\n",
      "|            1  |            2 |   -7.531E+06 |    3.084E+02 |   7.531E+06 |    1.000E+00 |    9.286E+00 |    3.591E+03 |\n",
      "|            2  |            3 |   -7.531E+06 |    3.084E+02 |   7.531E+06 |    1.000E+00 |    2.178E+01 |    3.578E+03 |\n",
      "|            3  |            4 |   -7.492E+06 |    3.084E+02 |   7.492E+06 |    1.000E+00 |    3.428E+01 |    3.566E+03 |\n",
      "|            4  |            5 |   -7.492E+06 |    3.084E+02 |   7.492E+06 |    1.000E+00 |    4.621E+01 |    3.554E+03 |\n",
      "|            5  |            6 |   -7.344E+06 |   -7.318E+06 |   2.654E+04 |    3.614E-03 |    4.728E+01 |    3.553E+03 |\n",
      " \n",
      "Relative Tolerance Achieved\n",
      "First Solution Found at Node 9\n",
      "LBD = -7.344210617732814e6\n",
      "UBD = -7.3176663129717745e6\n",
      "Solution is :\n",
      "    X[1] = 11.72236127830526\n",
      "    X[2] = 43615.19078439399\n",
      " \n",
      "xts* = 11.72236127830526 xa* = 43615.19078439399 f* = 7.3176663129717745e6 SF* = 0.698019691472141\n",
      "Algorithm terminated with a status of OPTIMAL and a result code of FEASIBLE_POINT\n"
     ]
    }
   ],
   "source": [
    "optimize!(m)\n",
    "\n",
    "println(\"xts* = \", JuMP.value(x[1]), \" xa* = \",\n",
    "         JuMP.value(x[2]),\" f* = \",-1.0*JuMP.objective_value(m),\" SF* = \",\n",
    "         SolarFrac(JuMP.value(x[1]),JuMP.value(x[2])))\n",
    "TermStatus = JuMP.termination_status(m)\n",
    "PrimStatus = JuMP.primal_status(m)\n",
    "println(\"Algorithm terminated with a status of $TermStatus and a result code of $PrimStatus\")"
   ]
  },
  {
   "cell_type": "markdown",
   "metadata": {},
   "source": [
    "So, we find the guaranteed global optimal solution is $x_{ts}^*=11.72$ h and $x_{a}^*=43,615.2$ m$^2$ with a solar fraction of $SF_s^*=0.698$ and an optimal solution value of $f^*_{disc}=7.320$ million dollars.  This is exactly what is found in Table 1 in the paper for Firebaugh, CA and the concave capital cost model."
   ]
  }
 ],
 "metadata": {
  "@webio": {
   "lastCommId": null,
   "lastKernelId": null
  },
  "kernelspec": {
   "display_name": "Julia 1.7.3",
   "language": "julia",
   "name": "julia-1.7"
  },
  "language_info": {
   "file_extension": ".jl",
   "mimetype": "application/julia",
   "name": "julia",
   "version": "1.7.3"
  }
 },
 "nbformat": 4,
 "nbformat_minor": 4
}
