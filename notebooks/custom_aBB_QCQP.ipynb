{
 "cells": [
  {
   "attachments": {},
   "cell_type": "markdown",
   "metadata": {},
   "source": [
    "# Extending EAGO for a Custom Lower-Bounding Problem: An $\\alpha$ BB example for a QCQP.\n",
    "In this example, we will demonstrate the use of a user-defined lower-bounding problem that uses $\\alpha$ BB convex relaxations. In this example, we wish to solve the (nonconvex) QCQP:\n",
    "$$\\begin{align*}\n",
    "&\\min_{\\mathbf x\\in X\\in \\mathbb{IR}^2}\\frac{1}{2}\\mathbf x^{\\rm T}\\mathbf Q_f\\mathbf x+\\mathbf c_f^{\\rm T}\\mathbf x\\\\\n",
    "{\\rm s.t.}\\;\\;&g_1(\\mathbf x)=\\frac{1}{2}\\mathbf x^{\\rm T}\\mathbf Q_{g_1}\\mathbf x+\\mathbf c_{g_1}^{\\rm T}\\mathbf x\\le 0\\\\\n",
    "&g_2(\\mathbf x)=\\frac{1}{2}\\mathbf x^{\\rm T}\\mathbf Q_{g_2}\\mathbf x+\\mathbf c_{g_2}^{\\rm T}\\mathbf x\\le 0\n",
    "\\end{align*}\n",
    "$$\n",
    "with $\\mathbf Q_i\\in\\mathbb R^{2\\times 2}$ not positive semidefinite for any $i$.\n",
    "\n",
    "We start by loading the necessary packages. This notebook was tested working using Julia 1.9.1 with JuMP v1.12.0, EAGO v0.8.1, and Ipopt v1.4.1."
   ]
  },
  {
   "cell_type": "code",
   "execution_count": 1,
   "metadata": {},
   "outputs": [],
   "source": [
    "using JuMP, EAGO, Ipopt, LinearAlgebra"
   ]
  },
  {
   "attachments": {},
   "cell_type": "markdown",
   "metadata": {},
   "source": [
    "For convenience, we'll define the following function that returns all the problem data $\\mathbf Q_i$ and $\\mathbf c_i$."
   ]
  },
  {
   "cell_type": "code",
   "execution_count": 2,
   "metadata": {},
   "outputs": [
    {
     "data": {
      "text/plain": [
       "QCQP_setup (generic function with 1 method)"
      ]
     },
     "metadata": {},
     "output_type": "display_data"
    }
   ],
   "source": [
    "function QCQP_setup()\n",
    "\n",
    "    Qf = [3. 3/2.;3/2. -5.]\n",
    "    cf = [3.;2.]\n",
    "\n",
    "    Qg1 = [-2. 5.;5. -2.]\n",
    "    cg1 = [1.;3.]\n",
    "\n",
    "    Qg2 = [-6. 3.;3. 2.]\n",
    "    cg2 = [2.;1.]\n",
    "    \n",
    "    return Qf,cf,Qg1,cg1,Qg2,cg2\n",
    "end"
   ]
  },
  {
   "attachments": {},
   "cell_type": "markdown",
   "metadata": {},
   "source": [
    "The next function we'll define will take as input data for a particular quadratic function and the interval bounds on the decision variables, and construct an $\\alpha$ BB convex relaxation of that function. Since we're solving a QCQP, we'll use the $\\verb|eigvals|$ function to directly compute the eigenvalues of the input $\\mathbf Q_i$ matrix."
   ]
  },
  {
   "cell_type": "code",
   "execution_count": 3,
   "metadata": {},
   "outputs": [
    {
     "data": {
      "text/plain": [
       "αBB_relax (generic function with 1 method)"
      ]
     },
     "metadata": {},
     "output_type": "display_data"
    }
   ],
   "source": [
    "function αBB_relax(Q::Matrix{T},c::Vector{T},xL::Vector{T},xU::Vector{T},x::Real...) where {T<:Float64}\n",
    "    α=max(0,-minimum(eigvals(Q))/2)\n",
    "    y = [x[1];x[2]]\n",
    "    cv = 1/2*y'*Q*y+c'*y+α*(xL-y)'*(xU-y)\n",
    "    return cv\n",
    "end"
   ]
  },
  {
   "attachments": {},
   "cell_type": "markdown",
   "metadata": {},
   "source": [
    "The following code first defines our EAGO extension (custom version) struct and then it redefines the lower-bounding problem as our own version. That is, when we call this customized version of EAGO to solve the problem, it'll deploy this version of the lower-bounding problem instead of the default version.  "
   ]
  },
  {
   "cell_type": "code",
   "execution_count": 4,
   "metadata": {},
   "outputs": [],
   "source": [
    "import EAGO: Optimizer, GlobalOptimizer\n",
    "\n",
    "struct αBB_Convex <: EAGO.ExtensionType end\n",
    "import EAGO: lower_problem!\n",
    "function EAGO.lower_problem!(t::αBB_Convex, opt::GlobalOptimizer)\n",
    "    # Get active node\n",
    "    n = opt._current_node\n",
    "    # Get bounds on active node for calculating relaxations\n",
    "    xL = n.lower_variable_bounds[1:2]\n",
    "    xU = n.upper_variable_bounds[1:2]\n",
    "    # Get the problem data\n",
    "    Qf,cf,Qg1,cg1,Qg2,cg2=QCQP_setup()\n",
    "\n",
    "    # Define the JuMP model and declare the solver, define the variables\n",
    "    mL = JuMP.Model(JuMP.optimizer_with_attributes(Ipopt.Optimizer,\n",
    "                                \"print_level\" => 0))\n",
    "    @variable(mL,xL[i]<=x[i=1:2]<=xU[i])\n",
    "    \n",
    "    # Define the function closures for the user-defined relaxations\n",
    "    fcv(x...)  = αBB_relax(Qf,cf,xL,xU,x...)   # relaxation of objective\n",
    "    g1cv(x...) = αBB_relax(Qg1,cg1,xL,xU,x...) # relaxation of constraint 1\n",
    "    g2cv(x...) = αBB_relax(Qg2,cg2,xL,xU,x...) # relaxation of constraint 2\n",
    "\n",
    "    # Register the user-defined functions\n",
    "    # Note: if the gradients and Hessians are directly available, they could\n",
    "    # be passed as arguments to the register function to speed things up.\n",
    "    JuMP.register(mL,:fcv,2,fcv,autodiff=true)\n",
    "    JuMP.register(mL,:g1cv,2,g1cv,autodiff=true)\n",
    "    JuMP.register(mL,:g2cv,2,g2cv,autodiff=true)\n",
    "\n",
    "    # Declare the objective function and constraints to the JuMP model\n",
    "    @NLobjective(mL,Min,fcv(x[1],x[2]))\n",
    "    @NLconstraint(mL,g1cv(x[1],x[2])<=0.)\n",
    "    @NLconstraint(mL,g2cv(x[1],x[2])<=0.)\n",
    "    \n",
    "    # Solve the relaxed problem\n",
    "    JuMP.optimize!(mL)\n",
    "    \n",
    "    # Get primal status, termination status, determine if a global solution was obtained\n",
    "    tstatus = MOI.get(mL, MOI.TerminationStatus())\n",
    "    pstatus = MOI.get(mL, MOI.PrimalStatus())\n",
    "\n",
    "    solution = JuMP.value.(x)\n",
    "    # Interpret status codes for branch-and-bound\n",
    "    if EAGO.local_problem_status(tstatus, pstatus) == EAGO.LRS_FEASIBLE\n",
    "        opt._lower_objective_value = JuMP.objective_value(mL) \n",
    "        opt._lower_solution[1:length(solution)] = solution\n",
    "        opt._lower_feasibility = true\n",
    "        opt._cut_add_flag = false\n",
    "    else\n",
    "        opt._lower_feasibility = false\n",
    "        opt._lower_objective_value = Inf\n",
    "        opt._cut_add_flag = false\n",
    "    end\n",
    "    return\n",
    "end;"
   ]
  },
  {
   "attachments": {},
   "cell_type": "markdown",
   "metadata": {},
   "source": [
    "Caution: By default, EAGO solves the epigraph reformulation of your original problem, which increases the original problem dimensionality by +1 with the introduction of an auxiliary variable. When defining custom routines (such as the lower-bounding problem here) that are intended to work nicely with default EAGO routines (such as preprocessing), the user must account for the *new* dimensionality of the problem. In the code above, we wish to access the information of the specific B&B node and define an optimization problem based on that information. However, in this example, the node has information for 3 variables (the original 2 plus 1 for the auxiliary variable appended to the original variable vector) as $(x_1,x_2,\\eta)$. The lower-bounding problem was defined to optimize the relaxed problem with respect to the original 2 decision variables. When storing the results of this subproblem to the current B&B node, it is important to take care to store the information at the appropriate indices and not inadvertently redefine the problem dimensionality (i.e., by simply storing the optimization solution as the $\\verb|lower_solution|$ of the current node). For problems that are defined to only branch on a subset of the original variables, the optimizer has a member $\\verb|_sol_to_branch_map|$ that carries the mapping between the indices of the original variables to those of the variables being branched on. See the custom_quasiconvex example to see how this is done. "
   ]
  },
  {
   "attachments": {},
   "cell_type": "markdown",
   "metadata": {},
   "source": [
    "(Optional) Turn off (short circuit) preprocessing routines if you don't want to use them as defined in EAGO. "
   ]
  },
  {
   "cell_type": "code",
   "execution_count": null,
   "metadata": {},
   "outputs": [],
   "source": [
    "import EAGO: preprocess!\n",
    "function EAGO.preprocess!(t::αBB_Convex, x::GlobalOptimizer)\n",
    "    x._preprocess_feasibility = true\n",
    "    return\n",
    "end"
   ]
  },
  {
   "attachments": {},
   "cell_type": "markdown",
   "metadata": {},
   "source": [
    "(Optional) Turn off (short circuit) postprocessing routines if you don't want to use them as defined in EAGO. "
   ]
  },
  {
   "cell_type": "code",
   "execution_count": null,
   "metadata": {},
   "outputs": [],
   "source": [
    "import EAGO: postprocess!\n",
    "function EAGO.postprocess!(t::αBB_Convex, x::GlobalOptimizer)\n",
    "    x._postprocess_feasibility = true\n",
    "    return\n",
    "end"
   ]
  },
  {
   "attachments": {},
   "cell_type": "markdown",
   "metadata": {},
   "source": [
    "Now, we'll tell EAGO to use our custom/extended solver, set up the main JuMP model, and solve it with our custom solver. "
   ]
  },
  {
   "cell_type": "code",
   "execution_count": 6,
   "metadata": {},
   "outputs": [
    {
     "name": "stdout",
     "output_type": "stream",
     "text": [
      "-----------------------------------------------------------------------------------------------------------------------------\n",
      "|  Iteration #  |     Nodes    | Lower Bound  |  Upper Bound  |      Gap     |     Ratio    |     Time     |    Time Left   |\n",
      "-----------------------------------------------------------------------------------------------------------------------------\n",
      "|            1  |            2 |   -7.787E+01 |   -8.430E+00 |   6.944E+01 |    8.917E-01 |    2.100E-02 |    3.600E+03 |\n",
      "|            2  |            3 |   -7.787E+01 |   -8.430E+00 |   6.944E+01 |    8.917E-01 |    4.700E-02 |    3.600E+03 |"
     ]
    },
    {
     "name": "stdout",
     "output_type": "stream",
     "text": [
      "\n",
      "|            3  |            4 |   -7.415E+01 |   -5.519E+01 |   1.897E+01 |    2.558E-01 |    6.700E-02 |    3.600E+03 |\n",
      "|            4  |            3 |   -7.415E+01 |   -5.519E+01 |   1.897E+01 |    2.558E-01 |    9.300E-02 |    3.600E+03 |\n",
      "|            5  |            2 |   -5.556E+01 |   -5.519E+01 |   3.688E-01 |    6.639E-03 |    1.090E-01 |    3.600E+03 |\n",
      "|            6  |            3 |   -5.556E+01 |   -5.519E+01 |   3.688E-01 |    6.639E-03 |    1.390E-01 |    3.600E+03 |\n",
      "|            7  |            2 |   -5.520E+01 |   -5.519E+01 |   1.424E-02 |    2.580E-04 |    1.500E-01 |    3.600E+03 |\n",
      "|            8  |            3 |   -5.520E+01 |   -5.519E+01 |   1.424E-02 |    2.580E-04 |    1.590E-01 |    3.600E+03 |"
     ]
    },
    {
     "name": "stdout",
     "output_type": "stream",
     "text": [
      "\n",
      "|            9  |            2 |   -5.520E+01 |   -5.519E+01 |   1.424E-02 |    2.580E-04 |    1.640E-01 |    3.600E+03 |\n",
      "|           10  |            1 |   -5.520E+01 |   -5.519E+01 |   1.424E-02 |    2.580E-04 |    1.700E-01 |    3.600E+03 |\n",
      "|           11  |            2 |   -5.519E+01 |   -5.519E+01 |   2.453E-03 |    4.444E-05 |    1.830E-01 |    3.600E+03 |\n",
      " \n",
      "Relative Tolerance Achieved\n",
      "First Solution Found at Node 11\n",
      "LBD = -55.189304808350606\n",
      "UBD = -55.18685223769234\n",
      "Solution is:\n",
      "    X[1] = 0.9999999990283819\n",
      "    X[2] = -4.236067970190563\n",
      " \n",
      "  0.184824 seconds (128.86 k allocations: 7.445 MiB)\n",
      "x1* = 0.9999999990283819 x2* = -4.236067970190563 f* = -55.18685223769234\n",
      "Algorithm terminated with a status of OPTIMAL and result code of FEASIBLE_POINT\n"
     ]
    }
   ],
   "source": [
    "factory = () -> EAGO.Optimizer(SubSolvers(; t=αBB_Convex() ))\n",
    "m = JuMP.Model(optimizer_with_attributes(factory,\n",
    "                                \"relative_tolerance\" => 1e-4,\n",
    "                                \"verbosity\" => 1,\n",
    "                                \"output_iterations\" => 1, \n",
    "                                \"branch_variable\" => Bool[true; true],\n",
    "                                ))\n",
    "Qf,cf,Qg1,cg1,Qg2,cg2=QCQP_setup()# get QCQP data\n",
    "xL = [-3.;-5.] # lower bounds on x\n",
    "xU = [1.; 2] # upper bounds on x\n",
    "@variable(m, xL[i] <= x[i=1:2] <= xU[i])\n",
    "\n",
    "#define objective and constraints\n",
    "@objective(m,Min,1/2*x'*Qf*x+cf'*x)\n",
    "@constraint(m,1/2*x'*Qg1*x+cg1'*x<=0.)\n",
    "@constraint(m,1/2*x'*Qg2*x+cg2'*x<=0.)\n",
    "\n",
    "# solve the problem\n",
    "@time optimize!(m)\n",
    "\n",
    "println(\"x1* = \", JuMP.value(x[1]), \" x2* = \",\n",
    "         JuMP.value(x[2]),\" f* = \",JuMP.objective_value(m))\n",
    "TermStatus = JuMP.termination_status(m)\n",
    "PrimStatus = JuMP.primal_status(m)\n",
    "println(\"Algorithm terminated with a status of $TermStatus and result code of $PrimStatus\")"
   ]
  }
 ],
 "metadata": {
  "kernelspec": {
   "display_name": "Julia 1.8.5",
   "language": "julia",
   "name": "julia-1.8"
  },
  "language_info": {
   "file_extension": ".jl",
   "mimetype": "application/julia",
   "name": "julia",
   "version": "1.8.5"
  },
  "orig_nbformat": 4
 },
 "nbformat": 4,
 "nbformat_minor": 2
}
