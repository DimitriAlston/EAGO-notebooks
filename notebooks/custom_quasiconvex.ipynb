{
 "cells": [
  {
   "cell_type": "markdown",
   "metadata": {},
   "source": [
    "# Customizing EAGO to Solve a Quasiconvex Problem \n",
    "\n",
    "[Matthew Wilhelm](https://psor.uconn.edu/person/matthew-wilhelm/)  \n",
    "Department of Chemical and Biomolecular Engineering, University of Connecticut"
   ]
  },
  {
   "cell_type": "markdown",
   "metadata": {},
   "source": [
    "In the following example, we illustrate how EAGO's basic branch and bound routine can be adapted for use in other algorithms.\n",
    "\n",
    "## An Algorithm for Solving Quasiconvex Problems\n",
    "\n",
    "We'll adapt EAGO to implement the bisection based algorithm used to solve quasiconvex optimization problem presented in [1] to solve the below problem:\n",
    "\n",
    "$\n",
    "\\begin{align}\n",
    "   f^*= \\qquad&\\min_{\\mathbf y\\in Y} f(\\mathbf y) \\\\ \n",
    "   {\\rm s.t.}\\;\\;&\\sum_{i=1}^5 i \\cdot y_i - 5 = 0  \\label{cons:first_qc} \\\\\n",
    "   &\\sum_{i=1}^5 y_i^2 - 0.5\\pi \\leq 0   \\\\\n",
    "   &-\\left(\\frac{1}{2}y_1^2 + \\frac{1}{2}y_2^2 + y_3^2 + 2y_1y_2 + 4y_1y_3 + 2y_2y_3\\right)\\leq 0   \\\\ \n",
    "   &-y_1^2 - 6y_1y_2 - 2y_2^2 + \\text{cos}(y_1) + \\pi \\leq 0 \\label{cons:last_qc} \\\\\n",
    "    &Y = [0, 5]^5\n",
    "\\end{align}\n",
    "$\n",
    "\n",
    "where\n",
    "\n",
    "$\n",
    "\\begin{align}\n",
    "    f(\\mathbf y) = -\\frac{\\text{ln}((5+y_1)^2 + \\sum_{i=1}^5 y_i)}{1 + \\sum_{i=1}^{5}y_{i}^{2}}.\n",
    "\\end{align}\n",
    "$\n",
    "\n",
    "Interval analysis shows that the objective value is bounded by the interval F such that $f^* \\in F=[f^L, f^U] = [-5, 0]$. Introducing an auxiliary variable $t\\in T=F$ allows the problem to be formulated as:\n",
    "\n",
    "$\n",
    "\\begin{align}\n",
    "    t^*=&\\min_{\\mathbf y\\in Y,t\\in T}t\\\\\n",
    "    {\\rm s.t.} \\quad & (24)-(27)\\\\\n",
    "    &f(\\mathbf y)-t\\le 0\\\\\n",
    "    &Y=[0,5]^2,\\;\\;T=[-5,0].\n",
    "\\end{align}\n",
    "$\n",
    "\n",
    "Let $\\phi_\\tau(\\mathbf y) = f(\\mathbf y) - \\tau$ such that $\\tau = (t^L + t^U)/2$. We solve for $\\mathbf y$ subject to constraints (24)-(27) were $\\phi_\\tau(\\mathbf y) \\leq 0$. If this is feasible, $t^* \\in [t^L, \\tau]$, else $t^* \\in [\\tau, t^U]$. The other interval containg $t^*$ is kept and the other is fathomed. This manner of bisection is repeated until an interval containing a feasible solution with a width of at most $\\epsilon$ is located [2]."
   ]
  },
  {
   "cell_type": "markdown",
   "metadata": {},
   "source": [
    "## Customizing EAGO's script\n",
    "First, the preprocessing step, upper problem, and postprocessing routines are short circuited as only a single optimization problem need be solved at each iteration."
   ]
  },
  {
   "cell_type": "code",
   "execution_count": 6,
   "metadata": {},
   "outputs": [],
   "source": [
    "using MathOptInterface, EAGO, JuMP\n",
    "import EAGO: Optimizer\n",
    "\n",
    "struct QuasiConvex <: EAGO.ExtensionType end\n",
    "import EAGO: preprocess!, upper_problem!, postprocess!\n",
    "function EAGO.preprocess!(t::QuasiConvex, x::Optimizer)\n",
    "    x._preprocess_feasibility = true\n",
    "    end\n",
    "function EAGO.upper_problem!(t::QuasiConvex, x::Optimizer)\n",
    "    x._upper_feasibility = true\n",
    "    end\n",
    "function EAGO.postprocess!(t::QuasiConvex, x::Optimizer)\n",
    "    x._postprocess_feasibility = true\n",
    "end"
   ]
  },
  {
   "cell_type": "markdown",
   "metadata": {},
   "source": [
    "Next we specify that only an absolute tolerance should be checked for convergence and termination."
   ]
  },
  {
   "cell_type": "code",
   "execution_count": 7,
   "metadata": {},
   "outputs": [],
   "source": [
    "import EAGO: convergence_check, termination_check, repeat_check\n",
    "function EAGO.convergence_check(t::QuasiConvex, x::Optimizer)\n",
    "    gap = (x._upper_objective_value - x._lower_objective_value)\n",
    "    return (gap <= x.absolute_tolerance)\n",
    "end\n",
    "function EAGO.termination_check(t::QuasiConvex, x::Optimizer)\n",
    "    flag = EAGO.convergence_check(t, x)\n",
    "    if flag\n",
    "        x._termination_status_code = MathOptInterface.OPTIMAL\n",
    "        x._result_status_code = MathOptInterface.FEASIBLE_POINT\n",
    "    end\n",
    "    return flag\n",
    "end"
   ]
  },
  {
   "cell_type": "markdown",
   "metadata": {},
   "source": [
    "Only these sixth variable representing $t$ need be branched on."
   ]
  },
  {
   "cell_type": "code",
   "execution_count": 8,
   "metadata": {},
   "outputs": [],
   "source": [
    "branch_variable = [i == 6 for i=1:6]\n",
    "EAGO.repeat_check(t::QuasiConvex, x::Optimizer) = true"
   ]
  },
  {
   "cell_type": "markdown",
   "metadata": {},
   "source": [
    "In the lower problem, we then specify that the problem is solved locally for a fixed $t$ value. The objective value is \n",
    "updated and the problem is contracted in order to discard the region which is known not to contain the optimal value."
   ]
  },
  {
   "cell_type": "code",
   "execution_count": 9,
   "metadata": {},
   "outputs": [],
   "source": [
    "import EAGO: lower_problem!\n",
    "function EAGO.lower_problem!(t::QuasiConvex, x::Optimizer)\n",
    "    y = x._current_node\n",
    "    lower = y.lower_variable_bounds[6]\n",
    "    upper = y.upper_variable_bounds[6]\n",
    "    midy = (lower + upper)/2.0\n",
    "    y.lower_variable_bounds[6] = midy\n",
    "    y.upper_variable_bounds[6] = midy\n",
    "    EAGO.solve_local_nlp!(x)\n",
    "    feas = x._upper_feasibility\n",
    "    y.lower_variable_bounds[6] = feas ?  lower : midy\n",
    "    y.upper_variable_bounds[6] = feas ?  midy : upper\n",
    "    x._lower_objective_value = y.lower_variable_bounds[6]\n",
    "    x._upper_objective_value = y.upper_variable_bounds[6]\n",
    "    x._lower_feasibility = true\n",
    "    return\n",
    "end"
   ]
  },
  {
   "cell_type": "markdown",
   "metadata": {},
   "source": [
    "We now build the JuMP model representing this problem, solve it and then retrieve the solution."
   ]
  },
  {
   "cell_type": "code",
   "execution_count": 10,
   "metadata": {},
   "outputs": [
    {
     "name": "stdout",
     "output_type": "stream",
     "text": [
      "-------------------------------------------------------------------------------------------------------\n",
      "|  Iteration #  |   Nodes  | Lower Bound | Upper Bound  |    Gap    |   Ratio   |  Time   | Time Left |\n",
      "-------------------------------------------------------------------------------------------------------\n",
      "First Solution Found at Node 1\n",
      "UBD = -1.71690346673131\n",
      "Solution is :\n",
      "    X[1] = 0.6521533635051513\n",
      "    X[2] = 0.6687269925064182\n",
      "    X[3] = 0.1827815731700123\n",
      "    X[4] = 0.24121532455559402\n",
      "    X[5] = 0.2994373267499198\n",
      "    X[6] = -1.71690346673131\n"
     ]
    },
    {
     "data": {
      "text/plain": [
       "-1.71690346673131"
      ]
     },
     "execution_count": 10,
     "metadata": {},
     "output_type": "execute_result"
    }
   ],
   "source": [
    "opt = with_optimizer(Optimizer, absolute_tolerance = 1E-8, branch_variable = branch_variable, ext_type = QuasiConvex())\n",
    "m = Model(opt)\n",
    "@variable(m, ((i<6) ? 0 : -5) <= y[i=1:6] <= ((i<6) ? 5 : 0))\n",
    "@constraint(m, sum(i*y[i] for i=1:5) - 5 == 0)\n",
    "@constraint(m, sum(y[i]^2 for i=1:5) - 0.5*pi^2 <= 0)\n",
    "@expression(m, expr1, 2*y[1]*y[2] + 4*y[1]*y[3] + 2*y[2]*y[3])\n",
    "@constraint(m, -(0.5*y[1]^2 + 0.5*y[2]^2 + y[3]^2 + expr1) <= 0)\n",
    "@NLexpression(m, expr2, log((5 + y[1])^2 + sum(y[i] for i=1:5)))\n",
    "@NLconstraint(m, -y[1]^2 -6*y[1]*y[2] -2*y[2]^2 +cos(y[1]) + pi <= 0)\n",
    "@NLconstraint(m, -expr2/(1 + sum(y[i]^2 for i=1:5)) - y[6] <= 0)\n",
    "@objective(m, Min, y[6])\n",
    "\n",
    "JuMP.optimize!(m)# retrieve solution info\n",
    "solution = JuMP.value.(y[1:5])\n",
    "global_obj_value = JuMP.value.(y[6])"
   ]
  },
  {
   "cell_type": "markdown",
   "metadata": {},
   "source": [
    "### Reference:\n",
    "1. C. Jansson,Quasiconvex relaxations based on interval arithmetic, Linear Algebra andits Applications, 324 (2001), pp. 27–53.\n",
    "2. S. Boyd and L. Vandenberghe,Convex optimization, Cambridge university press,2004."
   ]
  },
  {
   "cell_type": "code",
   "execution_count": null,
   "metadata": {},
   "outputs": [],
   "source": []
  }
 ],
 "metadata": {
  "@webio": {
   "lastCommId": null,
   "lastKernelId": null
  },
  "kernelspec": {
   "display_name": "Julia 1.3.1",
   "language": "julia",
   "name": "julia-1.3"
  },
  "language_info": {
   "file_extension": ".jl",
   "mimetype": "application/julia",
   "name": "julia",
   "version": "1.3.1"
  }
 },
 "nbformat": 4,
 "nbformat_minor": 2
}
