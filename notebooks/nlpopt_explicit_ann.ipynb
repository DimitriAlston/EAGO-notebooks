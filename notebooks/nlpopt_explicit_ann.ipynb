{
 "cells": [
  {
   "cell_type": "markdown",
   "metadata": {},
   "source": [
    "# Solving simple artificial neural network to optimality in EAGO \n",
    "\n",
    "[Matthew Wilhelm](https://psor.uconn.edu/person/matthew-wilhelm/)  \n",
    "Department of Chemical and Biomolecular Engineering, University of Connecticut\n",
    "\n",
    "[Robert Gottlieb](https://psor.uconn.edu/person/robert-gottlieb/)  \n",
    "Department of Chemical and Biomolecular Engineering, University of Connecticut"
   ]
  },
  {
   "cell_type": "markdown",
   "metadata": {},
   "source": [
    "In [1,2], a surrogate ANN model of bioreactor productivity was constructed by fitting results from computationally expensive CFD simulations. The author then optimized this surrogate model to obtain ideal processing conditions. This optimization problem is given by:\n",
    "\n",
    "$\n",
    "\\begin{align}\n",
    "    \\label{prob:ANN1}\n",
    "    \\max_{\\mathbf x\\in X} B_2 + \\sum_{r=1}^{3}W_{2,r}\\frac{2}{1+\\exp(-2y_{r}+B_{1,r})} \\qquad \\text{where} \\qquad y_{r} =  \\sum_{i=1}^{8} W_{1,ir}x_{i}\\\\\n",
    "\\end{align}\n",
    "$\n",
    "\n",
    "We'll repeat this exercise using JuMP and EAGO.\n",
    "\n",
    "### Input parameters\n",
    "\n",
    "In the first block, we input parameters values supplied in the paper for $W_1$, $W_2$, $B_1$, and $B_2$ into Julia as simple array objects. We also input bounds for the variables which are used to scale the values obtained from optimization from $[-1, 1]$ back into the design values."
   ]
  },
  {
   "cell_type": "code",
   "execution_count": 1,
   "metadata": {},
   "outputs": [],
   "source": [
    "using JuMP, EAGO\n",
    "\n",
    "# Weights associated with the hidden layer\n",
    "W1 = [ 0.54  -1.97  0.09  -2.14  1.01  -0.58  0.45  0.26;\n",
    "     -0.81  -0.74  0.63  -1.60 -0.56  -1.05  1.23  0.93;\n",
    "     -0.11  -0.38 -1.19   0.43  1.21   2.78 -0.06  0.40]\n",
    "\n",
    "# Weights associated with the output layer\n",
    "W2 = [-0.91 0.11 0.52]\n",
    "\n",
    "# Bias associated with the hidden layer\n",
    "B1 = [-2.698 0.012 2.926]\n",
    "\n",
    "# Bias associated with the output layer\n",
    "B2 = -0.46\n",
    "\n",
    "# Variable bounds (Used to scale variables after optimization)\n",
    "xLBD = [0.623, 0.093, 0.259, 6.56, 1114,  0.013, 0.127, 0.004]\n",
    "xUBD = [5.89,  0.5,   1.0,   90,   25000, 0.149, 0.889, 0.049];"
   ]
  },
  {
   "cell_type": "markdown",
   "metadata": {},
   "source": [
    "### Construct the JuMP model and optimize\n",
    "\n",
    "We now formulate the problem using standard JuMP[3] syntax and optimize it. Note that we are forming an NLexpression object to handle the summation term to keep the code visually simple, but this could also be placed directly in the JuMP @NLobjective expression instead."
   ]
  },
  {
   "cell_type": "code",
   "execution_count": 2,
   "metadata": {},
   "outputs": [],
   "source": [
    "# Model construction\n",
    "factory = () -> EAGO.Optimizer(SubSolvers())\n",
    "model = Model(optimizer_with_attributes(factory, \"absolute_tolerance\" => 0.001))\n",
    "@variable(model, -1.0 <= x[i=1:8] <= 1.0)\n",
    "@NLexpression(model, y[r=1:3], sum(W1[r,i]*x[i] for i in 1:8))\n",
    "@NLobjective(model, Max, B2 + sum(W2[r]*(2/(1+exp(-2*y[r]+B1[r]))) for r=1:3))\n",
    "\n",
    "# Solves the model\n",
    "optimize!(model)"
   ]
  },
  {
   "cell_type": "markdown",
   "metadata": {},
   "source": [
    "### Retrieve results\n",
    "\n",
    "We then recover the objective value, the solution value, and termination status codes using standard JuMP syntax. The optimal value and solution values are then rescaled using the variable bounds to obtain their physical interpretations."
   ]
  },
  {
   "cell_type": "code",
   "execution_count": 4,
   "metadata": {},
   "outputs": [
    {
     "name": "stdout",
     "output_type": "stream",
     "text": [
      "EAGO terminated with a status of OPTIMAL and a result code of FEASIBLE_POINT.\n",
      "The optimal value is: 0.70478.\n",
      "The solution found is [-1.0, 1.0, -1.0, 0.167, -0.777, 1.0, 1.0, 1.0].\n",
      "\n",
      "Rescaled optimal value and solution values:\n",
      "The rescaled optimal value is: 0.0597\n",
      "The rescaled solution is [0.623, 0.5, 0.259, 55.242, 3773.024, 0.149, 0.889, 0.049].\n"
     ]
    }
   ],
   "source": [
    "# Access calculated values\n",
    "fval = JuMP.objective_value(model)\n",
    "xsol = JuMP.value.(x)\n",
    "status_term = JuMP.termination_status(model)\n",
    "status_prim = JuMP.primal_status(model)\n",
    "println(\"EAGO terminated with a status of $status_term and a result code of $status_prim.\")\n",
    "println(\"The optimal value is: $(round(fval,digits=5)).\")\n",
    "println(\"The solution found is $(round.(xsol,digits=3)).\")\n",
    "println(\"\")\n",
    "\n",
    "# Rescale values back to physical space\n",
    "rescaled_fval = ((fval+1)/2)*0.07\n",
    "rescaled_xsol = ((xsol.+1.0)./2).*(xUBD-xLBD).+xLBD\n",
    "println(\"Rescaled optimal value and solution values:\")\n",
    "println(\"The rescaled optimal value is: $(round(rescaled_fval,digits=4))\")\n",
    "println(\"The rescaled solution is $(round.(rescaled_xsol,digits=3)).\")"
   ]
  },
  {
   "cell_type": "markdown",
   "metadata": {},
   "source": [
    "### Reference:\n",
    "1. J. D. Smith, A. A. Neto, S. Cremaschi, and D. W. Crunkleton, CFD-based optimization of a flooded bed algae bioreactor, *Industrial & Engineering Chemistry Research*, 52 (2012), pp. 7181–7188\n",
    "2. A. M. Schweidtmann and A. Mitsos. Global Deterministic Optimization with Artificial Neural Networks Embedded [https://arxiv.org/pdf/1801.07114.pdf](https://arxiv.org/pdf/1801.07114.pdf)\n",
    "3. Iain Dunning and Joey Huchette and Miles Lubin. JuMP: A Modeling Language for Mathematical Optimization, *SIAM Review*, 59 (2017), pp. 295-320."
   ]
  }
 ],
 "metadata": {
  "@webio": {
   "lastCommId": null,
   "lastKernelId": null
  },
  "kernelspec": {
   "display_name": "Julia 1.7.3",
   "language": "julia",
   "name": "julia-1.7"
  },
  "language_info": {
   "file_extension": ".jl",
   "mimetype": "application/julia",
   "name": "julia",
   "version": "1.7.3"
  }
 },
 "nbformat": 4,
 "nbformat_minor": 2
}
