{
 "cells": [
  {
   "cell_type": "markdown",
   "metadata": {},
   "source": [
    "# Using EAGO's basic optimizer with user-defined subroutines \n",
    "\n",
    "[Matthew Wilhelm](https://psor.uconn.edu/person/matthew-wilhelm/)  \n",
    "Department of Chemical and Biomolecular Engineering, University of Connecticut"
   ]
  },
  {
   "cell_type": "markdown",
   "metadata": {},
   "source": [
    "### Overview  \n",
    "In this section, we construct an optimizer that uses EAGO's basic nlp solution routine with user-defined lower and upper bounding problems. The **EAGO.Optimizer** structure supplies a number of parameters and stored structures that advanced users may find useful for constructing specialized solution routines. For a full review, of the EAGO.optimizer object the reader is directed to the **EAGO.Optimizer** docstring and documentation provided at [https://psorlab.github.io/EAGO.jl/stable/](https://psorlab.github.io/EAGO.jl/stable/).\n",
    "\n",
    "In this example, we'll forgo extensive integration into the EAGO.optimizer and simply replace the lower and upper-bounding problems to construct B&B routine that solves the following problem to global optimality using bounds obtained from interval arithmetic:\n",
    "\n",
    "$\n",
    "\\begin{align}\n",
    "&\\min_{\\mathbf x \\in X} \\;\\; \\sin(x_1)x_2^2 - \\cos(x_3) / x_4 \\label{eq1} \\\\\n",
    "&X = [-10,10]\\times[-1,1]\\times[-10,10]\\times[2,20].\n",
    "\\end{align}\n",
    "$\n",
    "\n",
    "We begin importing EAGO, IntervalArithmetic[1], and JuMP[2]."
   ]
  },
  {
   "cell_type": "code",
   "execution_count": 1,
   "metadata": {},
   "outputs": [],
   "source": [
    "using EAGO, IntervalArithmetic, JuMP"
   ]
  },
  {
   "cell_type": "markdown",
   "metadata": {},
   "source": [
    "We now define the IntervalExt struct as a subtype of the EAGO.Extension Type."
   ]
  },
  {
   "cell_type": "code",
   "execution_count": 2,
   "metadata": {},
   "outputs": [],
   "source": [
    "struct IntervalExt <: EAGO.ExtensionType end"
   ]
  },
  {
   "cell_type": "markdown",
   "metadata": {},
   "source": [
    "### Defining a custom lower bounding problem\n",
    "A valid lower bound is obtained from the lower bound of the natural interval extension using the **ValidatedNumerics.jl** package. The LowerProblem used accepts the **EAGO.Optimizer** structure and a **EAGO.NodeBB** structure, computes the bound by method overloading interval arithmetic, and stores the results to the appropriate field of the **EAGO.Optimizer's**. Note that the problem is unconstrained on the domain so we can assume it is always feasible. Further since the interval bound is constrain along the entire domain associated with a node no additional cuts will be beneficial and thus we've disabled them using the `_cut_add_flag` field."
   ]
  },
  {
   "cell_type": "code",
   "execution_count": 7,
   "metadata": {},
   "outputs": [
    {
     "data": {
      "text/plain": [
       "lower_problem! (generic function with 3 methods)"
      ]
     },
     "execution_count": 7,
     "metadata": {},
     "output_type": "execute_result"
    }
   ],
   "source": [
    "import EAGO.lower_problem!\n",
    "function lower_problem!(t::IntervalExt, x::EAGO.Optimizer)\n",
    "    \n",
    "    # retrieve bounds at current node\n",
    "    n = x._current_node\n",
    "    lower = n.lower_variable_bounds\n",
    "    upper = n.upper_variable_bounds\n",
    "    \n",
    "    # define X for node and compute interval extension\n",
    "    x_value = Interval.(lower, upper)\n",
    "    F = sin(x_value[1])x_value[2]^2-cos(x_value[3])/x_value[4]\n",
    "    \n",
    "    x._lower_objective_value = F.lo\n",
    "    x._lower_solution = mid.(x_value)\n",
    "    x._lower_feasibility = true\n",
    "    x._cut_add_flag = false\n",
    "    \n",
    "    return\n",
    "end"
   ]
  },
  {
   "cell_type": "markdown",
   "metadata": {},
   "source": [
    "### Defining a custom upper bounding problem\n",
    "Since the problem is unconstained, any feasible point represents a valid upper bound. If we arbitrarily take evaluate the function at the midpoint we obtain an upper bound. The below function constructs an upper bound in this manner then stores the results to the appropriate field of the **EAGO.Optimizer's**."
   ]
  },
  {
   "cell_type": "code",
   "execution_count": 4,
   "metadata": {},
   "outputs": [
    {
     "data": {
      "text/plain": [
       "upper_problem! (generic function with 1 method)"
      ]
     },
     "execution_count": 4,
     "metadata": {},
     "output_type": "execute_result"
    }
   ],
   "source": [
    "import EAGO.upper_problem!\n",
    "function EAGO.upper_problem!(t::IntervalExt, x::EAGO.Optimizer)\n",
    "    \n",
    "    # retrieve bounds at current node\n",
    "    n = x._current_node\n",
    "    lower = n.lower_variable_bounds\n",
    "    upper = n.upper_variable_bounds\n",
    "    \n",
    "    # compute midpoint value\n",
    "    x_value = 0.5*(upper + lower)\n",
    "    f_val = sin(x_value[1])*x_value[2]^2-cos(x_value[3])/x_value[4]\n",
    "    x._upper_objective_value = f_val\n",
    "    x._upper_solution = x_value\n",
    "    x._upper_feasibility = true\n",
    "    \n",
    "    return\n",
    "end"
   ]
  },
  {
   "cell_type": "markdown",
   "metadata": {},
   "source": [
    "### Disable unecessary routines.\n",
    "It is entirely possible to disable domain reduction by manipulating keyword arguments supplied to the optimizer. However, for simplicity sake we'll simply overload the default preprocessing and postprocessing methods,"
   ]
  },
  {
   "cell_type": "code",
   "execution_count": 5,
   "metadata": {},
   "outputs": [],
   "source": [
    "import EAGO: preprocess!, postprocess!, cut_condition\n",
    "function EAGO.preprocess!(t::IntervalExt, x::Optimizer)\n",
    "    x._preprocess_feasibility = true\n",
    "    return\n",
    "end\n",
    "function EAGO.postprocess!(t::IntervalExt, x::Optimizer)\n",
    "    x._postprocess_feasibility = true\n",
    "    return\n",
    "end\n",
    "EAGO.cut_condition(t::IntervalExt, x::Optimizer) = false"
   ]
  },
  {
   "cell_type": "markdown",
   "metadata": {},
   "source": [
    "### Build the JuMP Model and optimize\n",
    "We now add our optimizer to a JuMP model, provide variable bounds, optimize. Note that options can be provided to the EAGO optimizer using a series of keywords of a Dict{Symbol,Any} object. Both manners of providing options to EAGO are illustrated below."
   ]
  },
  {
   "cell_type": "code",
   "execution_count": null,
   "metadata": {},
   "outputs": [],
   "source": [
    "# Creates a JuMP model with the the lower_problem, upper_problem, and absolute tolerance set by keyword arguments\n",
    "m = JuMP.Model(with_optimizer(EAGO.Optimizer, absolute_tolerance = 0.001, obbt_depth = 0, dbbt_depth = 0, cp_depth = 0,\n",
    "                              branch_variable = Bool[true; true; true; true], ext_type = IntervalExt()))\n",
    "\n",
    "# Create the same model m using an options dictionary\n",
    "opt_dict = Dict{Symbol, Any}()\n",
    "opt_dict[:absolute_tolerance] = 0.001\n",
    "opt_dict[:obbt_depth] = 0\n",
    "opt_dict[:dbbt_depth] = 0\n",
    "opt_dict[:cp_depth] = 0\n",
    "opt_dict[:branch_variable] = Bool[true; true; true; true]\n",
    "opt_dict[:ext_type] = IntervalExt()\n",
    "\n",
    "m = JuMP.Model(with_optimizer(EAGO.Optimizer; opt_dict...))\n",
    "\n",
    "# Adds variables and bounds\n",
    "x_L = [-10, -1, -10, 2]\n",
    "x_U = [10, 1, 10, 20]\n",
    "@variable(m, x_L[i] <= x[i=1:4] <= x_U[i])\n",
    "\n",
    "# Solves the problem\n",
    "JuMP.optimize!(m)"
   ]
  },
  {
   "cell_type": "markdown",
   "metadata": {},
   "source": [
    "### Get information from the JuMP Model object\n",
    "The objective value, solution, termination status,  and primal status can then be accessed via the standard JuMP interface."
   ]
  },
  {
   "cell_type": "code",
   "execution_count": 6,
   "metadata": {},
   "outputs": [
    {
     "name": "stdout",
     "output_type": "stream",
     "text": [
      "EAGO terminated with a status of OPTIMAL and a result code of FEASIBLE_POINT\n",
      "The optimal value is: -1.691376119161244, the solution found is [0.3125, 0.03125, 0.3125, 0.5625].\n"
     ]
    }
   ],
   "source": [
    "fval = JuMP.objective_value(m)\n",
    "xsol = JuMP.value.(x)\n",
    "status_term = JuMP.termination_status(m)\n",
    "status_prim = JuMP.primal_status(m)\n",
    "\n",
    "println(\"EAGO terminated with a status of $status_term and a result code of $status_prim\")\n",
    "println(\"The optimal value is: $fval, the solution found is $xsol.\")"
   ]
  },
  {
   "cell_type": "markdown",
   "metadata": {},
   "source": [
    "### Advice for more advanced constructions\n",
    "The *default_lower_problem* and *default_upper_problem* should be used templates for error handling and retreiving information from MOI models. Similarly, the other default routine are good starting points for building custom modifications.\n",
    "\n",
    "Essentially all of EAGO's subroutines are stored to a field in the **EAGO.Optimizer** structure can be reset as user-defined functions.\n",
    "\n",
    "### References\n",
    "1. IntervalArithmetic.jl [Computer software] (2019). Retrieved from https://github.com/JuliaIntervals/IntervalArithmetic.jl\n",
    "2. Iain Dunning and Joey Huchette and Miles Lubin. JuMP: A Modeling Language for Mathematical Optimization, *SIAM Review*, **SIAM** 59 (2017), pp. 295-320."
   ]
  }
 ],
 "metadata": {
  "kernelspec": {
   "display_name": "Julia 1.1.0",
   "language": "julia",
   "name": "julia-1.1"
  },
  "language_info": {
   "file_extension": ".jl",
   "mimetype": "application/julia",
   "name": "julia",
   "version": "1.1.0"
  }
 },
 "nbformat": 4,
 "nbformat_minor": 2
}
